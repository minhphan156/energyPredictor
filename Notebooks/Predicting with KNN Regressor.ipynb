{
 "cells": [
  {
   "cell_type": "markdown",
   "metadata": {},
   "source": [
    "# Predicting with a KNN Regressor\n",
    "\n",
    "This notebook predicts the meter reading with KNN \n",
    "  \n",
    "Please change the paths in the second cell to where you store the csv files  "
   ]
  },
  {
   "cell_type": "code",
   "execution_count": 1,
   "metadata": {},
   "outputs": [],
   "source": [
    "from sklearn.model_selection import train_test_split\n",
    "from sklearn.neighbors import KNeighborsRegressor\n",
    "from sklearn.naive_bayes import GaussianNB\n",
    "from sklearn.svm import SVC, LinearSVC\n",
    "\n",
    "import pandas as pd\n",
    "import numpy as np"
   ]
  },
  {
   "cell_type": "markdown",
   "metadata": {},
   "source": [
    "### Import data and train the Model\n",
    "\n",
    "First, we import all the necessary csv files."
   ]
  },
  {
   "cell_type": "code",
   "execution_count": 2,
   "metadata": {},
   "outputs": [],
   "source": [
    "train_preprocessed = pd.read_csv(\"../CSV/train_preprocessed_knn7.csv\")\n",
    "train_target = pd.read_csv(\"../CSV/train_target_knn7.csv\")\n",
    "\n",
    "test_preprocessed = pd.read_csv(\"../CSV/test_preprocessed_knn7_with_buildingId.csv\")\n",
    "test_row = pd.read_csv(\"../CSV/test_row_knn7_with_buildingId.csv\")"
   ]
  },
  {
   "cell_type": "markdown",
   "metadata": {},
   "source": [
    "Next, we split the train_preprocessed and train_target into test and training sets.  \n",
    "Then, we train a RandomForestRegressor and display their score."
   ]
  },
  {
   "cell_type": "code",
   "execution_count": 3,
   "metadata": {},
   "outputs": [],
   "source": [
    "X_train, X_test, y_train, y_test = train_test_split(train_preprocessed, train_target, random_state=0)"
   ]
  },
  {
   "cell_type": "code",
   "execution_count": null,
   "metadata": {},
   "outputs": [
    {
     "name": "stdout",
     "output_type": "stream",
     "text": [
      "Score on training set: 1.0000\n"
     ]
    }
   ],
   "source": [
    "KNN = KNeighborsRegressor(n_neighbors=1)\n",
    "KNN.fit(X_train, y_train.values.ravel())\n",
    "\n",
    "print(\"Score on training set: {:.4f}\".format(KNN.score(X_train, y_train)))\n",
    "print(\"Score on test set: {:.4f}\".format(KNN.score(X_test, y_test)))"
   ]
  },
  {
   "cell_type": "markdown",
   "metadata": {},
   "source": [
    "### Predict and save prediction to CSV file\n",
    "\n",
    "Finally, we make a prediction based on the test_final dataset and the previously trained KNNRegressor.  \n",
    "The final predictions gets saved as a CSV file"
   ]
  },
  {
   "cell_type": "code",
   "execution_count": null,
   "metadata": {},
   "outputs": [],
   "source": [
    "PredictionKNN = KNN.predict(test_preprocessed)\n",
    "PredictionKNN = pd.DataFrame(PredictionKNN, columns = [\"meter_reading\"])\n",
    "\n",
    "PredictionKNNCombined = pd.concat([test_row,PredictionKNN],axis=1)\n",
    "\n",
    "PredictionKNNCombined.to_csv('../PredictionKNNRegressor.csv', index = False)\n",
    "PredictionKNNCombined.head()"
   ]
  },
  {
   "cell_type": "code",
   "execution_count": null,
   "metadata": {},
   "outputs": [],
   "source": []
  }
 ],
 "metadata": {
  "kernelspec": {
   "display_name": "Python 3",
   "language": "python",
   "name": "python3"
  },
  "language_info": {
   "codemirror_mode": {
    "name": "ipython",
    "version": 3
   },
   "file_extension": ".py",
   "mimetype": "text/x-python",
   "name": "python",
   "nbconvert_exporter": "python",
   "pygments_lexer": "ipython3",
   "version": "3.7.3"
  }
 },
 "nbformat": 4,
 "nbformat_minor": 2
}
