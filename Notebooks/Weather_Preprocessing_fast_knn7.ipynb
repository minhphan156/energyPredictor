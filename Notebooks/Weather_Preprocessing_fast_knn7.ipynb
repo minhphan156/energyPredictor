{
 "cells": [
  {
   "cell_type": "code",
   "execution_count": 1,
   "metadata": {},
   "outputs": [],
   "source": [
    "from sklearn import preprocessing\n",
    "import sys\n",
    "from impyute.imputation.cs import fast_knn\n",
    "import pandas as pd\n",
    "import numpy as np"
   ]
  },
  {
   "cell_type": "code",
   "execution_count": 2,
   "metadata": {},
   "outputs": [],
   "source": [
    "weather_train = pd.read_csv(\"weather_train.csv\")\n",
    "weather_test = pd.read_csv(\"weather_test.csv\")"
   ]
  },
  {
   "cell_type": "markdown",
   "metadata": {},
   "source": [
    "Replacing values in precip_depth_1_hr that have a '-1' reading with '0'"
   ]
  },
  {
   "cell_type": "code",
   "execution_count": 3,
   "metadata": {},
   "outputs": [],
   "source": [
    "weather_train.loc[weather_train['precip_depth_1_hr'] < 0, 'precip_depth_1_hr'] = 0\n",
    "weather_test.loc[weather_test['precip_depth_1_hr'] < 0, 'precip_depth_1_hr'] = 0"
   ]
  },
  {
   "cell_type": "markdown",
   "metadata": {},
   "source": [
    "Separating the Timestamp and Site ID, as we do not want to do preprocessing on it yet"
   ]
  },
  {
   "cell_type": "code",
   "execution_count": 4,
   "metadata": {},
   "outputs": [],
   "source": [
    "weather_trainTime = weather_train['timestamp'].copy()\n",
    "weather_trainSiteID = weather_train['site_id'].copy()\n",
    "weather_trainToImpute = weather_train.drop(['timestamp', 'site_id'], axis=1)\n",
    "# ===================================\n",
    "weather_testTime = weather_test['timestamp'].copy()\n",
    "weather_testSiteID = weather_test['site_id'].copy()\n",
    "weather_testToImpute = weather_test.drop(['timestamp', 'site_id'], axis=1)"
   ]
  },
  {
   "cell_type": "markdown",
   "metadata": {},
   "source": [
    "Now we impute the NaN values of all columns with the mean value"
   ]
  },
  {
   "cell_type": "code",
   "execution_count": 7,
   "metadata": {},
   "outputs": [],
   "source": [
    "weather_trainImputed = fast_knn(weather_trainToImpute, k=4)\n",
    "weather_trainImputed = pd.DataFrame(weather_trainImputed.values, columns = weather_trainToImpute.columns)\n",
    "weather_trainImputed.head()\n"
   ]
  },
  {
   "cell_type": "code",
   "execution_count": 8,
   "metadata": {},
   "outputs": [
    {
     "name": "stderr",
     "output_type": "stream",
     "text": [
      "/Users/Minh/anaconda3/lib/python3.7/site-packages/impyute/util/preprocess.py:52: FutureWarning: Method .as_matrix will be removed in a future version. Use .values instead.\n",
      "  args[0] = args[0].as_matrix()\n"
     ]
    },
    {
     "data": {
      "text/html": [
       "<div>\n",
       "<style scoped>\n",
       "    .dataframe tbody tr th:only-of-type {\n",
       "        vertical-align: middle;\n",
       "    }\n",
       "\n",
       "    .dataframe tbody tr th {\n",
       "        vertical-align: top;\n",
       "    }\n",
       "\n",
       "    .dataframe thead th {\n",
       "        text-align: right;\n",
       "    }\n",
       "</style>\n",
       "<table border=\"1\" class=\"dataframe\">\n",
       "  <thead>\n",
       "    <tr style=\"text-align: right;\">\n",
       "      <th></th>\n",
       "      <th>air_temperature</th>\n",
       "      <th>cloud_coverage</th>\n",
       "      <th>dew_temperature</th>\n",
       "      <th>precip_depth_1_hr</th>\n",
       "      <th>sea_level_pressure</th>\n",
       "      <th>wind_direction</th>\n",
       "      <th>wind_speed</th>\n",
       "    </tr>\n",
       "  </thead>\n",
       "  <tbody>\n",
       "    <tr>\n",
       "      <th>0</th>\n",
       "      <td>17.8</td>\n",
       "      <td>4.0</td>\n",
       "      <td>11.7</td>\n",
       "      <td>0.958814</td>\n",
       "      <td>1021.4</td>\n",
       "      <td>100.0</td>\n",
       "      <td>3.6</td>\n",
       "    </tr>\n",
       "    <tr>\n",
       "      <th>1</th>\n",
       "      <td>17.8</td>\n",
       "      <td>2.0</td>\n",
       "      <td>12.8</td>\n",
       "      <td>0.000000</td>\n",
       "      <td>1022.0</td>\n",
       "      <td>130.0</td>\n",
       "      <td>3.1</td>\n",
       "    </tr>\n",
       "    <tr>\n",
       "      <th>2</th>\n",
       "      <td>16.1</td>\n",
       "      <td>0.0</td>\n",
       "      <td>12.8</td>\n",
       "      <td>0.000000</td>\n",
       "      <td>1021.9</td>\n",
       "      <td>140.0</td>\n",
       "      <td>3.1</td>\n",
       "    </tr>\n",
       "    <tr>\n",
       "      <th>3</th>\n",
       "      <td>17.2</td>\n",
       "      <td>0.0</td>\n",
       "      <td>13.3</td>\n",
       "      <td>0.000000</td>\n",
       "      <td>1022.2</td>\n",
       "      <td>140.0</td>\n",
       "      <td>3.1</td>\n",
       "    </tr>\n",
       "    <tr>\n",
       "      <th>4</th>\n",
       "      <td>16.7</td>\n",
       "      <td>2.0</td>\n",
       "      <td>13.3</td>\n",
       "      <td>0.000000</td>\n",
       "      <td>1022.3</td>\n",
       "      <td>130.0</td>\n",
       "      <td>2.6</td>\n",
       "    </tr>\n",
       "  </tbody>\n",
       "</table>\n",
       "</div>"
      ],
      "text/plain": [
       "   air_temperature  cloud_coverage  dew_temperature  precip_depth_1_hr  \\\n",
       "0             17.8             4.0             11.7           0.958814   \n",
       "1             17.8             2.0             12.8           0.000000   \n",
       "2             16.1             0.0             12.8           0.000000   \n",
       "3             17.2             0.0             13.3           0.000000   \n",
       "4             16.7             2.0             13.3           0.000000   \n",
       "\n",
       "   sea_level_pressure  wind_direction  wind_speed  \n",
       "0              1021.4           100.0         3.6  \n",
       "1              1022.0           130.0         3.1  \n",
       "2              1021.9           140.0         3.1  \n",
       "3              1022.2           140.0         3.1  \n",
       "4              1022.3           130.0         2.6  "
      ]
     },
     "execution_count": 8,
     "metadata": {},
     "output_type": "execute_result"
    }
   ],
   "source": [
    "weather_testImputed = fast_knn(weather_testToImpute, k=7)\n",
    "weather_testImputed = pd.DataFrame(weather_testImputed.values, columns = weather_testToImpute.columns)\n",
    "weather_testImputed.head()"
   ]
  },
  {
   "cell_type": "markdown",
   "metadata": {},
   "source": [
    "Now we do min max scaling (normalizing to [0,1])"
   ]
  },
  {
   "cell_type": "code",
   "execution_count": 10,
   "metadata": {},
   "outputs": [],
   "source": [
    "minMaxScaler = preprocessing.MinMaxScaler()\n",
    "weather_trainImputedScaled = minMaxScaler.fit_transform(weather_trainImputed)\n",
    "weather_trainImputedScaled = pd.DataFrame(weather_trainImputedScaled, columns = weather_trainImputed.columns)\n",
    "# ===================================\n",
    "weather_testImputedScaled = minMaxScaler.fit_transform(weather_testImputed)\n",
    "weather_testImputedScaled = pd.DataFrame(weather_testImputedScaled, columns = weather_testImputed.columns)\n"
   ]
  },
  {
   "cell_type": "markdown",
   "metadata": {},
   "source": [
    "Next we join the timestamp, site ID and all the imputed/scaled values"
   ]
  },
  {
   "cell_type": "code",
   "execution_count": 11,
   "metadata": {},
   "outputs": [],
   "source": [
    "weather_trainFinal = pd.concat([weather_trainTime, weather_trainSiteID], axis=1)\n",
    "weather_trainFinal = pd.concat([weather_trainFinal, weather_trainImputedScaled], axis=1)\n",
    "# ===================================\n",
    "weather_testFinal = pd.concat([weather_testTime, weather_testSiteID], axis=1)\n",
    "weather_testFinal = pd.concat([weather_testFinal, weather_testImputedScaled], axis=1)\n"
   ]
  },
  {
   "cell_type": "markdown",
   "metadata": {},
   "source": [
    "Finally, we save the dataframe as a CSV file"
   ]
  },
  {
   "cell_type": "code",
   "execution_count": 12,
   "metadata": {},
   "outputs": [],
   "source": [
    "weather_trainFinal.to_csv('weather_train_preprocessed_knn7.csv', index = False)\n",
    "weather_testFinal.to_csv('weather_test_preprocessed_knn7.csv', index = False)"
   ]
  },
  {
   "cell_type": "code",
   "execution_count": null,
   "metadata": {},
   "outputs": [],
   "source": [
    "weather_testFinal.head()"
   ]
  },
  {
   "cell_type": "code",
   "execution_count": null,
   "metadata": {},
   "outputs": [],
   "source": [
    "weather_trainFinal.head()"
   ]
  }
 ],
 "metadata": {
  "kernelspec": {
   "display_name": "Python 3",
   "language": "python",
   "name": "python3"
  },
  "language_info": {
   "codemirror_mode": {
    "name": "ipython",
    "version": 3
   },
   "file_extension": ".py",
   "mimetype": "text/x-python",
   "name": "python",
   "nbconvert_exporter": "python",
   "pygments_lexer": "ipython3",
   "version": "3.7.3"
  }
 },
 "nbformat": 4,
 "nbformat_minor": 2
}
