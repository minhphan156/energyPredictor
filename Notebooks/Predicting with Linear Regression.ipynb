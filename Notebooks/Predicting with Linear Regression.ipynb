{
 "cells": [
  {
   "cell_type": "markdown",
   "metadata": {},
   "source": [
    "# Predicting with Linear Regression\n",
    "\n",
    "This notebook predicts the meter reading with Linear Regression. \n",
    "  \n",
    "Please change the paths in the second cell to where you store the csv files  "
   ]
  },
  {
   "cell_type": "code",
   "execution_count": 4,
   "metadata": {},
   "outputs": [],
   "source": [
    "from sklearn.model_selection import train_test_split\n",
    "from sklearn.linear_model import LinearRegression\n",
    "\n",
    "import pandas as pd"
   ]
  },
  {
   "cell_type": "markdown",
   "metadata": {},
   "source": [
    "### Import data and train the Model\n",
    "\n",
    "First, we import all the necessary csv files."
   ]
  },
  {
   "cell_type": "code",
   "execution_count": 5,
   "metadata": {},
   "outputs": [],
   "source": [
    "train_preprocessed = pd.read_csv(\"../CSV/train_preprocessed.csv\")\n",
    "train_target = pd.read_csv(\"../CSV/train_target.csv\")\n",
    "\n",
    "test_preprocessed = pd.read_csv(\"../CSV/test_preprocessed.csv\")\n",
    "test_row = pd.read_csv(\"../CSV/test_row.csv\")"
   ]
  },
  {
   "cell_type": "markdown",
   "metadata": {},
   "source": [
    "Next, we split the train_preprocessed and train_target into test and training sets.  \n",
    "Then, we train a Linear Regression and display their score."
   ]
  },
  {
   "cell_type": "code",
   "execution_count": 6,
   "metadata": {},
   "outputs": [
    {
     "name": "stdout",
     "output_type": "stream",
     "text": [
      "Score on training set: 0.0010\n",
      "Score on test set: 0.0011\n"
     ]
    }
   ],
   "source": [
    "X_train, X_test, y_train, y_test = train_test_split(train_preprocessed, train_target, random_state=0)\n",
    "\n",
    "reg = LinearRegression().fit(X_train, y_train)\n",
    "print(\"Score on training set: {:.4f}\".format(reg.score(X_train, y_train)))\n",
    "print(\"Score on test set: {:.4f}\".format(reg.score(X_test, y_test)))\n"
   ]
  },
  {
   "cell_type": "markdown",
   "metadata": {},
   "source": [
    "### Predict and save prediction to CSV file\n",
    "\n",
    "Finally, we make a prediction based on the test_final dataset and the previously trained Linear Regression.  \n",
    "The final predictions gets saved as a CSV file"
   ]
  },
  {
   "cell_type": "code",
   "execution_count": 7,
   "metadata": {},
   "outputs": [
    {
     "data": {
      "text/html": [
       "<div>\n",
       "<style scoped>\n",
       "    .dataframe tbody tr th:only-of-type {\n",
       "        vertical-align: middle;\n",
       "    }\n",
       "\n",
       "    .dataframe tbody tr th {\n",
       "        vertical-align: top;\n",
       "    }\n",
       "\n",
       "    .dataframe thead th {\n",
       "        text-align: right;\n",
       "    }\n",
       "</style>\n",
       "<table border=\"1\" class=\"dataframe\">\n",
       "  <thead>\n",
       "    <tr style=\"text-align: right;\">\n",
       "      <th></th>\n",
       "      <th>row_id</th>\n",
       "      <th>meter_reading</th>\n",
       "    </tr>\n",
       "  </thead>\n",
       "  <tbody>\n",
       "    <tr>\n",
       "      <th>0</th>\n",
       "      <td>0</td>\n",
       "      <td>-578.553461</td>\n",
       "    </tr>\n",
       "    <tr>\n",
       "      <th>1</th>\n",
       "      <td>1</td>\n",
       "      <td>-805.437796</td>\n",
       "    </tr>\n",
       "    <tr>\n",
       "      <th>2</th>\n",
       "      <td>2</td>\n",
       "      <td>-1007.134117</td>\n",
       "    </tr>\n",
       "    <tr>\n",
       "      <th>3</th>\n",
       "      <td>3</td>\n",
       "      <td>-223.691248</td>\n",
       "    </tr>\n",
       "    <tr>\n",
       "      <th>4</th>\n",
       "      <td>4</td>\n",
       "      <td>1591.578898</td>\n",
       "    </tr>\n",
       "  </tbody>\n",
       "</table>\n",
       "</div>"
      ],
      "text/plain": [
       "   row_id  meter_reading\n",
       "0       0    -578.553461\n",
       "1       1    -805.437796\n",
       "2       2   -1007.134117\n",
       "3       3    -223.691248\n",
       "4       4    1591.578898"
      ]
     },
     "execution_count": 7,
     "metadata": {},
     "output_type": "execute_result"
    }
   ],
   "source": [
    "PredictionLR = reg.predict(test_preprocessed)\n",
    "PredictionLR = pd.DataFrame(PredictionLR, columns = [\"meter_reading\"])\n",
    "\n",
    "PredictionLRCombined = pd.concat([test_row,PredictionLR],axis=1)\n",
    "\n",
    "PredictionLRCombined.to_csv('../PredictionLinearRegression.csv', index = False)\n",
    "PredictionLRCombined.head()"
   ]
  },
  {
   "cell_type": "code",
   "execution_count": null,
   "metadata": {},
   "outputs": [],
   "source": []
  }
 ],
 "metadata": {
  "kernelspec": {
   "display_name": "Python 3",
   "language": "python",
   "name": "python3"
  },
  "language_info": {
   "codemirror_mode": {
    "name": "ipython",
    "version": 3
   },
   "file_extension": ".py",
   "mimetype": "text/x-python",
   "name": "python",
   "nbconvert_exporter": "python",
   "pygments_lexer": "ipython3",
   "version": "3.7.3"
  }
 },
 "nbformat": 4,
 "nbformat_minor": 2
}
