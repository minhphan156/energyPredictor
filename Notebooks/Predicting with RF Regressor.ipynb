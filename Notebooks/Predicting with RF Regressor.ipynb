{
 "cells": [
  {
   "cell_type": "markdown",
   "metadata": {},
   "source": [
    "# Predicting with a Random Forest Regressor\n",
    "\n",
    "This notebook predicts the meter reading with a Random Forest Regressor. \n",
    "  \n",
    "Please change the paths in the second cell to where you store the csv files  "
   ]
  },
  {
   "cell_type": "code",
   "execution_count": 1,
   "metadata": {},
   "outputs": [],
   "source": [
    "from sklearn.model_selection import train_test_split\n",
    "from sklearn.ensemble import RandomForestRegressor\n",
    "\n",
    "import pandas as pd"
   ]
  },
  {
   "cell_type": "markdown",
   "metadata": {},
   "source": [
    "### Import data and train the Model\n",
    "\n",
    "First, we import all the necessary csv files."
   ]
  },
  {
   "cell_type": "code",
   "execution_count": 2,
   "metadata": {},
   "outputs": [],
   "source": [
    "train_preprocessed = pd.read_csv(\"../CSV/train_preprocessed.csv\")\n",
    "train_target = pd.read_csv(\"../CSV/train_target.csv\")\n",
    "\n",
    "test_preprocessed = pd.read_csv(\"../CSV/test_preprocessed.csv\")\n",
    "test_row = pd.read_csv(\"../CSV/test_row.csv\")"
   ]
  },
  {
   "cell_type": "markdown",
   "metadata": {},
   "source": [
    "Next, we split the train_preprocessed and train_target into test and training sets.  \n",
    "Then, we train a RandomForestRegressor and display their score."
   ]
  },
  {
   "cell_type": "code",
   "execution_count": 3,
   "metadata": {},
   "outputs": [
    {
     "name": "stderr",
     "output_type": "stream",
     "text": [
      "C:\\Users\\hclsa\\Anaconda3\\lib\\site-packages\\ipykernel_launcher.py:4: DataConversionWarning: A column-vector y was passed when a 1d array was expected. Please change the shape of y to (n_samples,), for example using ravel().\n",
      "  after removing the cwd from sys.path.\n"
     ]
    },
    {
     "name": "stdout",
     "output_type": "stream",
     "text": [
      "Score on training set: 0.9179\n",
      "Score on test set: 0.6543\n"
     ]
    }
   ],
   "source": [
    "X_train, X_test, y_train, y_test = train_test_split(train_preprocessed, train_target, random_state=0)\n",
    "\n",
    "RFregr = RandomForestRegressor(random_state=0, n_estimators=5)\n",
    "RFregr.fit(X_train, y_train)\n",
    "\n",
    "print(\"Score on training set: {:.4f}\".format(RFregr.score(X_train, y_train)))\n",
    "print(\"Score on test set: {:.4f}\".format(RFregr.score(X_test, y_test)))"
   ]
  },
  {
   "cell_type": "code",
   "execution_count": 2,
   "metadata": {},
   "outputs": [],
   "source": [
    "#BEST SCORE SO FAR\n",
    "# Score on training set: 0.9179\n",
    "# Score on test set: 0.6543"
   ]
  },
  {
   "cell_type": "markdown",
   "metadata": {},
   "source": [
    "### Predict and save prediction to CSV file\n",
    "\n",
    "Finally, we make a prediction based on the test_final dataset and the previously trained RandomForestRegressor.  \n",
    "The final predictions gets saved as a CSV file"
   ]
  },
  {
   "cell_type": "code",
   "execution_count": 5,
   "metadata": {},
   "outputs": [
    {
     "data": {
      "text/html": [
       "<div>\n",
       "<style scoped>\n",
       "    .dataframe tbody tr th:only-of-type {\n",
       "        vertical-align: middle;\n",
       "    }\n",
       "\n",
       "    .dataframe tbody tr th {\n",
       "        vertical-align: top;\n",
       "    }\n",
       "\n",
       "    .dataframe thead th {\n",
       "        text-align: right;\n",
       "    }\n",
       "</style>\n",
       "<table border=\"1\" class=\"dataframe\">\n",
       "  <thead>\n",
       "    <tr style=\"text-align: right;\">\n",
       "      <th></th>\n",
       "      <th>row_id</th>\n",
       "      <th>meter_reading</th>\n",
       "    </tr>\n",
       "  </thead>\n",
       "  <tbody>\n",
       "    <tr>\n",
       "      <th>0</th>\n",
       "      <td>0</td>\n",
       "      <td>38.90600</td>\n",
       "    </tr>\n",
       "    <tr>\n",
       "      <th>1</th>\n",
       "      <td>1</td>\n",
       "      <td>11.08478</td>\n",
       "    </tr>\n",
       "    <tr>\n",
       "      <th>2</th>\n",
       "      <td>2</td>\n",
       "      <td>0.00000</td>\n",
       "    </tr>\n",
       "    <tr>\n",
       "      <th>3</th>\n",
       "      <td>3</td>\n",
       "      <td>0.00000</td>\n",
       "    </tr>\n",
       "    <tr>\n",
       "      <th>4</th>\n",
       "      <td>4</td>\n",
       "      <td>0.00000</td>\n",
       "    </tr>\n",
       "  </tbody>\n",
       "</table>\n",
       "</div>"
      ],
      "text/plain": [
       "   row_id  meter_reading\n",
       "0       0       38.90600\n",
       "1       1       11.08478\n",
       "2       2        0.00000\n",
       "3       3        0.00000\n",
       "4       4        0.00000"
      ]
     },
     "execution_count": 5,
     "metadata": {},
     "output_type": "execute_result"
    }
   ],
   "source": [
    "PredictionRF = RFregr.predict(test_preprocessed)\n",
    "PredictionRF = pd.DataFrame(PredictionRF, columns = [\"meter_reading\"])\n",
    "\n",
    "PredictionRFCombined = pd.concat([test_row,PredictionRF],axis=1)\n",
    "\n",
    "PredictionRFCombined.to_csv('../PredictionRandomForestRegressor.csv', index = False)\n",
    "PredictionRFCombined.head()"
   ]
  },
  {
   "cell_type": "code",
   "execution_count": null,
   "metadata": {},
   "outputs": [],
   "source": []
  }
 ],
 "metadata": {
  "kernelspec": {
   "display_name": "Python 3",
   "language": "python",
   "name": "python3"
  },
  "language_info": {
   "codemirror_mode": {
    "name": "ipython",
    "version": 3
   },
   "file_extension": ".py",
   "mimetype": "text/x-python",
   "name": "python",
   "nbconvert_exporter": "python",
   "pygments_lexer": "ipython3",
   "version": "3.7.3"
  }
 },
 "nbformat": 4,
 "nbformat_minor": 2
}
