{
 "cells": [
  {
   "cell_type": "markdown",
   "metadata": {},
   "source": [
    "# Predicting with a Random Forest Regressor\n",
    "\n",
    "This notebook predicts the meter reading with a Random Forest Regressor. \n",
    "  \n",
    "Please change the paths in the second cell to where you store the csv files  "
   ]
  },
  {
   "cell_type": "code",
   "execution_count": null,
   "metadata": {},
   "outputs": [],
   "source": [
    "from sklearn.model_selection import train_test_split\n",
    "from sklearn.ensemble import RandomForestRegressor\n",
    "from sklearn.model_selection import GridSearchCV, RandomizedSearchCV\n",
    "from sklearn.model_selection import cross_val_score\n",
    "\n",
    "import pandas as pd\n",
    "import numpy as np"
   ]
  },
  {
   "cell_type": "markdown",
   "metadata": {},
   "source": [
    "### Import data and train the Model\n",
    "\n",
    "First, we import all the necessary csv files."
   ]
  },
  {
   "cell_type": "code",
   "execution_count": null,
   "metadata": {},
   "outputs": [],
   "source": [
    "train_preprocessed = pd.read_csv(\"../CSV/train_preprocessed_with_Zeros.csv\")\n",
    "train_target = pd.read_csv(\"../CSV/train_target_with_Zeros.csv\")\n",
    "\n",
    "test_preprocessed = pd.read_csv(\"../CSV/test_preprocessed.csv\")\n",
    "test_row = pd.read_csv(\"../CSV/test_row.csv\")"
   ]
  },
  {
   "cell_type": "markdown",
   "metadata": {},
   "source": [
    "Next, we split the train_preprocessed and train_target into test and training sets.  \n",
    "Then, we train a RandomForestRegressor and display their score."
   ]
  },
  {
   "cell_type": "code",
   "execution_count": null,
   "metadata": {},
   "outputs": [],
   "source": [
    "X_train, X_test, y_train, y_test = train_test_split(train_preprocessed, train_target, random_state=0)\n",
    "\n",
    "RFregr = RandomForestRegressor(random_state=0, n_estimators=5)\n",
    "RFregr.fit(X_train, y_train)\n",
    "\n",
    "print(\"Score on training set: {:.4f}\".format(RFregr.score(X_train, y_train)))\n",
    "print(\"Score on test set: {:.4f}\".format(RFregr.score(X_test, y_test)))"
   ]
  },
  {
   "cell_type": "markdown",
   "metadata": {},
   "source": [
    "Unfortunately, even with the smallest possible values of only 1 iteration for a 2-fold cross validation, our laptop's CPUs / memory cannot handle it."
   ]
  },
  {
   "cell_type": "code",
   "execution_count": null,
   "metadata": {},
   "outputs": [],
   "source": [
    "X_train, X_test, y_train, y_test = train_test_split(train_preprocessed, train_target, random_state=0)\n",
    "\n",
    "#Wide range of parameters to evaluate\n",
    "param_grid = {'n_estimators':  [7,10,13],\n",
    "              'max_depth': [ 4, 12, None],\n",
    "              'max_features': ['auto', 'sqrt'],\n",
    "              'min_samples_split': [ 2, 5, 7],\n",
    "              'min_samples_leaf': [1, 2, 3],\n",
    "              'bootstrap': [True, False]   \n",
    "               }\n",
    "\n",
    "rf = RandomForestRegressor()\n",
    "random_grid_search = RandomizedSearchCV(estimator = rf, param_distributions = param_grid,\n",
    "                               n_iter = 1, cv = 2, verbose=2, random_state=42, n_jobs = -1)\n",
    "\n",
    "#fit data to the model\n",
    "random_grid_search.fit(X_train, y_train)\n",
    "\n",
    "print(\"Best parameters: {}\".format(random_grid_search.best_params_))\n",
    "print(\"Best cross-validation score: {:.3f}\".format(random_grid_search.best_score_))\n",
    "print(\"Best estimator:\\n{}\".format(random_grid_search.best_estimator_))\n",
    "print(\"Test set score: {:.3f}\".format(random_grid_search.score(X_test, y_test)))"
   ]
  },
  {
   "cell_type": "markdown",
   "metadata": {},
   "source": [
    "The same problem occurs for a regular grid search CV"
   ]
  },
  {
   "cell_type": "code",
   "execution_count": null,
   "metadata": {},
   "outputs": [],
   "source": [
    "param_grid = {'n_estimators':  [9,10], \n",
    "              'max_depth': [12, None],\n",
    "              'max_features': ['auto', 'sqrt'], \n",
    "              'min_samples_split': [ 4, 5, 6 ],\n",
    "              'min_samples_leaf': [1, 2, 3],\n",
    "              'bootstrap': [True, False]                \n",
    "               }\n",
    "\n",
    "grid_search = GridSearchCV(RandomForestRegressor(), param_grid, cv=5)\n",
    "\n",
    "X_trainval, X_test, y_trainval, y_test = train_test_split(train_preprocessed, train_target, random_state=0)\n",
    "grid_search.fit(X_trainval, y_trainval)\n",
    "\n",
    "print(\"Best parameters: {}\".format(grid_search.best_params_))\n",
    "print(\"Best cross-validation score: {:.3f}\".format(grid_search.best_score_))\n",
    "print(\"Best estimator:\\n{}\".format(grid_search.best_estimator_))\n",
    "print(\"Test set score: {:.3f}\".format(grid_search.score(X_test, y_test)))"
   ]
  },
  {
   "cell_type": "markdown",
   "metadata": {},
   "source": [
    "### Predict and save prediction to CSV file\n",
    "\n",
    "Finally, we make a prediction based on the test_final dataset and the previously trained RandomForestRegressor.  \n",
    "The final predictions gets saved as a CSV file"
   ]
  },
  {
   "cell_type": "code",
   "execution_count": null,
   "metadata": {},
   "outputs": [],
   "source": [
    "PredictionRF = RFregr.predict(test_preprocessed)\n",
    "PredictionRF = pd.DataFrame(PredictionRF, columns = [\"meter_reading\"])\n",
    "\n",
    "PredictionRFCombined = pd.concat([test_row,PredictionRF],axis=1)\n",
    "\n",
    "PredictionRFCombined.to_csv('../PredictionRandomForestRegressor.csv', index = False)\n",
    "PredictionRFCombined.head()"
   ]
  }
 ],
 "metadata": {
  "kernelspec": {
   "display_name": "Python 3",
   "language": "python",
   "name": "python3"
  },
  "language_info": {
   "codemirror_mode": {
    "name": "ipython",
    "version": 3
   },
   "file_extension": ".py",
   "mimetype": "text/x-python",
   "name": "python",
   "nbconvert_exporter": "python",
   "pygments_lexer": "ipython3",
   "version": "3.7.3"
  }
 },
 "nbformat": 4,
 "nbformat_minor": 2
}
