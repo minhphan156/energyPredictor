{
 "cells": [
  {
   "cell_type": "code",
   "execution_count": 37,
   "metadata": {},
   "outputs": [],
   "source": [
    "from sklearn import preprocessing\n",
    "from sklearn.impute import SimpleImputer\n",
    "\n",
    "import pandas as pd\n",
    "import numpy as np"
   ]
  },
  {
   "cell_type": "code",
   "execution_count": 38,
   "metadata": {},
   "outputs": [],
   "source": [
    "weather_train = pd.read_csv(\"C:/Users/hclsa/Desktop/Fall2019/CMPE188/TeamProject/raw_data/weather_train.csv\")\n",
    "weather_test = pd.read_csv(\"C:/Users/hclsa/Desktop/Fall2019/CMPE188/TeamProject/raw_data/weather_test.csv\")"
   ]
  },
  {
   "cell_type": "markdown",
   "metadata": {},
   "source": [
    "Replacing values in precip_depth_1_hr that have a '-1' reading with '0'"
   ]
  },
  {
   "cell_type": "code",
   "execution_count": 46,
   "metadata": {},
   "outputs": [],
   "source": [
    "weather_train.loc[weather_train['precip_depth_1_hr'] < 0, 'precip_depth_1_hr'] = 0\n",
    "weather_test.loc[weather_test['precip_depth_1_hr'] < 0, 'precip_depth_1_hr'] = 0"
   ]
  },
  {
   "cell_type": "markdown",
   "metadata": {},
   "source": [
    "Separating the Timestamp and Site ID, as we do not want to do preprocessing on it yet"
   ]
  },
  {
   "cell_type": "code",
   "execution_count": 47,
   "metadata": {},
   "outputs": [],
   "source": [
    "weather_trainTime = weather_train['timestamp'].copy()\n",
    "weather_trainSiteID = weather_train['site_id'].copy()\n",
    "weather_trainToImpute = weather_train.drop(['timestamp', 'site_id'], axis=1)\n",
    "# ===================================\n",
    "weather_testTime = weather_test['timestamp'].copy()\n",
    "weather_testSiteID = weather_test['site_id'].copy()\n",
    "weather_testToImpute = weather_test.drop(['timestamp', 'site_id'], axis=1)"
   ]
  },
  {
   "cell_type": "markdown",
   "metadata": {},
   "source": [
    "Now we impute the NaN values of all columns with the mean value"
   ]
  },
  {
   "cell_type": "code",
   "execution_count": 48,
   "metadata": {},
   "outputs": [],
   "source": [
    "meanImputer = SimpleImputer(missing_values=np.nan, strategy='mean')\n",
    "weather_trainImputed = meanImputer.fit_transform(weather_trainToImpute)\n",
    "weather_trainImputed = pd.DataFrame(weather_trainImputed, columns = weather_trainToImpute.columns)\n",
    "# ===================================\n",
    "weather_testImputed = meanImputer.fit_transform(weather_testToImpute)\n",
    "weather_testImputed = pd.DataFrame(weather_testImputed, columns = weather_testToImpute.columns)"
   ]
  },
  {
   "cell_type": "markdown",
   "metadata": {},
   "source": [
    "Now we do min max scaling (normalizing to [0,1])"
   ]
  },
  {
   "cell_type": "code",
   "execution_count": 49,
   "metadata": {},
   "outputs": [],
   "source": [
    "minMaxScaler = preprocessing.MinMaxScaler()\n",
    "weather_trainImputedScaled = minMaxScaler.fit_transform(weather_trainImputed)\n",
    "weather_trainImputedScaled = pd.DataFrame(weather_trainImputedScaled, columns = weather_trainImputed.columns)\n",
    "# ===================================\n",
    "weather_testImputedScaled = minMaxScaler.fit_transform(weather_testImputed)\n",
    "weather_testImputedScaled = pd.DataFrame(weather_testImputedScaled, columns = weather_testImputed.columns)\n"
   ]
  },
  {
   "cell_type": "markdown",
   "metadata": {},
   "source": [
    "Next we join the timestamp, site ID and all the imputed/scaled values"
   ]
  },
  {
   "cell_type": "code",
   "execution_count": 50,
   "metadata": {},
   "outputs": [],
   "source": [
    "weather_trainFinal = pd.concat([weather_trainTime, weather_trainSiteID], axis=1)\n",
    "weather_trainFinal = pd.concat([weather_trainFinal, weather_trainImputedScaled], axis=1)\n",
    "# ===================================\n",
    "weather_testFinal = pd.concat([weather_testTime, weather_testSiteID], axis=1)\n",
    "weather_testFinal = pd.concat([weather_testFinal, weather_testImputedScaled], axis=1)\n"
   ]
  },
  {
   "cell_type": "markdown",
   "metadata": {},
   "source": [
    "Finally, we save the dataframe as a CSV file"
   ]
  },
  {
   "cell_type": "code",
   "execution_count": 51,
   "metadata": {},
   "outputs": [],
   "source": [
    "weather_trainFinal.to_csv('weather_train_preprocessed.csv', index = False)\n",
    "weather_testFinal.to_csv('weather_test_preprocessed.csv', index = False)"
   ]
  },
  {
   "cell_type": "code",
   "execution_count": 52,
   "metadata": {},
   "outputs": [
    {
     "data": {
      "text/html": [
       "<div>\n",
       "<style scoped>\n",
       "    .dataframe tbody tr th:only-of-type {\n",
       "        vertical-align: middle;\n",
       "    }\n",
       "\n",
       "    .dataframe tbody tr th {\n",
       "        vertical-align: top;\n",
       "    }\n",
       "\n",
       "    .dataframe thead th {\n",
       "        text-align: right;\n",
       "    }\n",
       "</style>\n",
       "<table border=\"1\" class=\"dataframe\">\n",
       "  <thead>\n",
       "    <tr style=\"text-align: right;\">\n",
       "      <th></th>\n",
       "      <th>timestamp</th>\n",
       "      <th>site_id</th>\n",
       "      <th>air_temperature</th>\n",
       "      <th>cloud_coverage</th>\n",
       "      <th>dew_temperature</th>\n",
       "      <th>precip_depth_1_hr</th>\n",
       "      <th>sea_level_pressure</th>\n",
       "      <th>wind_direction</th>\n",
       "      <th>wind_speed</th>\n",
       "    </tr>\n",
       "  </thead>\n",
       "  <tbody>\n",
       "    <tr>\n",
       "      <th>0</th>\n",
       "      <td>2016-01-01 00:00:00</td>\n",
       "      <td>0</td>\n",
       "      <td>0.708279</td>\n",
       "      <td>0.666667</td>\n",
       "      <td>0.900164</td>\n",
       "      <td>0.003054</td>\n",
       "      <td>0.666235</td>\n",
       "      <td>0.000000</td>\n",
       "      <td>0.000000</td>\n",
       "    </tr>\n",
       "    <tr>\n",
       "      <th>1</th>\n",
       "      <td>2016-01-01 01:00:00</td>\n",
       "      <td>0</td>\n",
       "      <td>0.700394</td>\n",
       "      <td>0.238812</td>\n",
       "      <td>0.918167</td>\n",
       "      <td>0.000000</td>\n",
       "      <td>0.672704</td>\n",
       "      <td>0.194444</td>\n",
       "      <td>0.078947</td>\n",
       "    </tr>\n",
       "    <tr>\n",
       "      <th>2</th>\n",
       "      <td>2016-01-01 02:00:00</td>\n",
       "      <td>0</td>\n",
       "      <td>0.679369</td>\n",
       "      <td>0.222222</td>\n",
       "      <td>0.918167</td>\n",
       "      <td>0.000000</td>\n",
       "      <td>0.672704</td>\n",
       "      <td>0.000000</td>\n",
       "      <td>0.000000</td>\n",
       "    </tr>\n",
       "    <tr>\n",
       "      <th>3</th>\n",
       "      <td>2016-01-01 03:00:00</td>\n",
       "      <td>0</td>\n",
       "      <td>0.657030</td>\n",
       "      <td>0.222222</td>\n",
       "      <td>0.909984</td>\n",
       "      <td>0.000000</td>\n",
       "      <td>0.671410</td>\n",
       "      <td>0.000000</td>\n",
       "      <td>0.000000</td>\n",
       "    </tr>\n",
       "    <tr>\n",
       "      <th>4</th>\n",
       "      <td>2016-01-01 04:00:00</td>\n",
       "      <td>0</td>\n",
       "      <td>0.642576</td>\n",
       "      <td>0.222222</td>\n",
       "      <td>0.900164</td>\n",
       "      <td>0.000000</td>\n",
       "      <td>0.670116</td>\n",
       "      <td>0.694444</td>\n",
       "      <td>0.136842</td>\n",
       "    </tr>\n",
       "  </tbody>\n",
       "</table>\n",
       "</div>"
      ],
      "text/plain": [
       "             timestamp  site_id  air_temperature  cloud_coverage  \\\n",
       "0  2016-01-01 00:00:00        0         0.708279        0.666667   \n",
       "1  2016-01-01 01:00:00        0         0.700394        0.238812   \n",
       "2  2016-01-01 02:00:00        0         0.679369        0.222222   \n",
       "3  2016-01-01 03:00:00        0         0.657030        0.222222   \n",
       "4  2016-01-01 04:00:00        0         0.642576        0.222222   \n",
       "\n",
       "   dew_temperature  precip_depth_1_hr  sea_level_pressure  wind_direction  \\\n",
       "0         0.900164           0.003054            0.666235        0.000000   \n",
       "1         0.918167           0.000000            0.672704        0.194444   \n",
       "2         0.918167           0.000000            0.672704        0.000000   \n",
       "3         0.909984           0.000000            0.671410        0.000000   \n",
       "4         0.900164           0.000000            0.670116        0.694444   \n",
       "\n",
       "   wind_speed  \n",
       "0    0.000000  \n",
       "1    0.078947  \n",
       "2    0.000000  \n",
       "3    0.000000  \n",
       "4    0.136842  "
      ]
     },
     "execution_count": 52,
     "metadata": {},
     "output_type": "execute_result"
    }
   ],
   "source": [
    "weather_trainFinal.head()"
   ]
  },
  {
   "cell_type": "code",
   "execution_count": 53,
   "metadata": {},
   "outputs": [
    {
     "data": {
      "text/html": [
       "<div>\n",
       "<style scoped>\n",
       "    .dataframe tbody tr th:only-of-type {\n",
       "        vertical-align: middle;\n",
       "    }\n",
       "\n",
       "    .dataframe tbody tr th {\n",
       "        vertical-align: top;\n",
       "    }\n",
       "\n",
       "    .dataframe thead th {\n",
       "        text-align: right;\n",
       "    }\n",
       "</style>\n",
       "<table border=\"1\" class=\"dataframe\">\n",
       "  <thead>\n",
       "    <tr style=\"text-align: right;\">\n",
       "      <th></th>\n",
       "      <th>timestamp</th>\n",
       "      <th>site_id</th>\n",
       "      <th>air_temperature</th>\n",
       "      <th>cloud_coverage</th>\n",
       "      <th>dew_temperature</th>\n",
       "      <th>precip_depth_1_hr</th>\n",
       "      <th>sea_level_pressure</th>\n",
       "      <th>wind_direction</th>\n",
       "      <th>wind_speed</th>\n",
       "    </tr>\n",
       "  </thead>\n",
       "  <tbody>\n",
       "    <tr>\n",
       "      <th>0</th>\n",
       "      <td>2017-01-01 00:00:00</td>\n",
       "      <td>0</td>\n",
       "      <td>0.600785</td>\n",
       "      <td>0.444444</td>\n",
       "      <td>0.742710</td>\n",
       "      <td>0.001948</td>\n",
       "      <td>0.632522</td>\n",
       "      <td>0.277778</td>\n",
       "      <td>0.148760</td>\n",
       "    </tr>\n",
       "    <tr>\n",
       "      <th>1</th>\n",
       "      <td>2017-01-01 01:00:00</td>\n",
       "      <td>0</td>\n",
       "      <td>0.600785</td>\n",
       "      <td>0.222222</td>\n",
       "      <td>0.761578</td>\n",
       "      <td>0.000000</td>\n",
       "      <td>0.640205</td>\n",
       "      <td>0.361111</td>\n",
       "      <td>0.128099</td>\n",
       "    </tr>\n",
       "    <tr>\n",
       "      <th>2</th>\n",
       "      <td>2017-01-01 02:00:00</td>\n",
       "      <td>0</td>\n",
       "      <td>0.578534</td>\n",
       "      <td>0.000000</td>\n",
       "      <td>0.761578</td>\n",
       "      <td>0.000000</td>\n",
       "      <td>0.638924</td>\n",
       "      <td>0.388889</td>\n",
       "      <td>0.128099</td>\n",
       "    </tr>\n",
       "    <tr>\n",
       "      <th>3</th>\n",
       "      <td>2017-01-01 03:00:00</td>\n",
       "      <td>0</td>\n",
       "      <td>0.592932</td>\n",
       "      <td>0.000000</td>\n",
       "      <td>0.770154</td>\n",
       "      <td>0.000000</td>\n",
       "      <td>0.642766</td>\n",
       "      <td>0.388889</td>\n",
       "      <td>0.128099</td>\n",
       "    </tr>\n",
       "    <tr>\n",
       "      <th>4</th>\n",
       "      <td>2017-01-01 04:00:00</td>\n",
       "      <td>0</td>\n",
       "      <td>0.586387</td>\n",
       "      <td>0.222222</td>\n",
       "      <td>0.770154</td>\n",
       "      <td>0.000000</td>\n",
       "      <td>0.644046</td>\n",
       "      <td>0.361111</td>\n",
       "      <td>0.107438</td>\n",
       "    </tr>\n",
       "  </tbody>\n",
       "</table>\n",
       "</div>"
      ],
      "text/plain": [
       "             timestamp  site_id  air_temperature  cloud_coverage  \\\n",
       "0  2017-01-01 00:00:00        0         0.600785        0.444444   \n",
       "1  2017-01-01 01:00:00        0         0.600785        0.222222   \n",
       "2  2017-01-01 02:00:00        0         0.578534        0.000000   \n",
       "3  2017-01-01 03:00:00        0         0.592932        0.000000   \n",
       "4  2017-01-01 04:00:00        0         0.586387        0.222222   \n",
       "\n",
       "   dew_temperature  precip_depth_1_hr  sea_level_pressure  wind_direction  \\\n",
       "0         0.742710           0.001948            0.632522        0.277778   \n",
       "1         0.761578           0.000000            0.640205        0.361111   \n",
       "2         0.761578           0.000000            0.638924        0.388889   \n",
       "3         0.770154           0.000000            0.642766        0.388889   \n",
       "4         0.770154           0.000000            0.644046        0.361111   \n",
       "\n",
       "   wind_speed  \n",
       "0    0.148760  \n",
       "1    0.128099  \n",
       "2    0.128099  \n",
       "3    0.128099  \n",
       "4    0.107438  "
      ]
     },
     "execution_count": 53,
     "metadata": {},
     "output_type": "execute_result"
    }
   ],
   "source": [
    "weather_testFinal.head()"
   ]
  },
  {
   "cell_type": "code",
   "execution_count": null,
   "metadata": {},
   "outputs": [],
   "source": []
  }
 ],
 "metadata": {
  "kernelspec": {
   "display_name": "Python 3",
   "language": "python",
   "name": "python3"
  },
  "language_info": {
   "codemirror_mode": {
    "name": "ipython",
    "version": 3
   },
   "file_extension": ".py",
   "mimetype": "text/x-python",
   "name": "python",
   "nbconvert_exporter": "python",
   "pygments_lexer": "ipython3",
   "version": "3.7.3"
  }
 },
 "nbformat": 4,
 "nbformat_minor": 2
}
